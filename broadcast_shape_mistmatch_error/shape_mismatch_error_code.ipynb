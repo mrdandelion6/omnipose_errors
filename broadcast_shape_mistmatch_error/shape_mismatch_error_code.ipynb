{
 "cells": [
  {
   "cell_type": "code",
   "execution_count": 1,
   "metadata": {},
   "outputs": [
    {
     "name": "stdout",
     "output_type": "stream",
     "text": [
      "current pwd is:  /home/faisal6\n",
      "changed pwd to:  /home/faisal6/scratch/4d_segmentation/scripts/omnipose/errors/error_code/\n"
     ]
    }
   ],
   "source": [
    "# set directory\n",
    "import os\n",
    "pwd = os.getcwd()\n",
    "print(\"current pwd is: \", pwd)\n",
    "\n",
    "if pwd != \"/home/faisal6/scratch/4d_segmentation/scripts/omnipose/errors/error_code/\":\n",
    "    pwd = \"/home/faisal6/scratch/4d_segmentation/scripts/omnipose/errors/error_code/\"\n",
    "    os.chdir(pwd)\n",
    "    print(\"changed pwd to: \", pwd)\n"
   ]
  },
  {
   "cell_type": "code",
   "execution_count": 2,
   "metadata": {},
   "outputs": [
    {
     "data": {
      "text/plain": [
       "['../test3D/Movie1_t00004_crop_gt.tif']"
      ]
     },
     "execution_count": 2,
     "metadata": {},
     "output_type": "execute_result"
    }
   ],
   "source": [
    "# ========= configure =========\n",
    "from cellpose_omni import io\n",
    "\n",
    "example_dir = '../test3D/'\n",
    "\n",
    "\n",
    "files = io.get_image_files(example_dir) \n",
    "files\n",
    "# ============================="
   ]
  },
  {
   "cell_type": "code",
   "execution_count": 3,
   "metadata": {},
   "outputs": [
    {
     "name": "stdout",
     "output_type": "stream",
     "text": [
      "Torch version:  2.1.2+cu118\n",
      "CUDA available:  True\n",
      "CUDA version:  11.8\n",
      "Number of CUDA devices:  3\n"
     ]
    }
   ],
   "source": [
    "import torch\n",
    "\n",
    "print(\"Torch version: \", torch.__version__)\n",
    "print(\"CUDA available: \", torch.cuda.is_available())\n",
    "print(\"CUDA version: \", torch.version.cuda)\n",
    "print(\"Number of CUDA devices: \", torch.cuda.device_count())"
   ]
  },
  {
   "cell_type": "code",
   "execution_count": 4,
   "metadata": {},
   "outputs": [
    {
     "name": "stdout",
     "output_type": "stream",
     "text": [
      "2024-06-17 22:58:05,050 [INFO] ** TORCH GPU version installed and working. **\n",
      ">>> GPU activated? 1\n"
     ]
    }
   ],
   "source": [
    "from cellpose_omni import core\n",
    "\n",
    "use_GPU = core.use_gpu()\n",
    "print('>>> GPU activated? %d'%use_GPU)"
   ]
  },
  {
   "cell_type": "code",
   "execution_count": 5,
   "metadata": {},
   "outputs": [
    {
     "name": "stdout",
     "output_type": "stream",
     "text": [
      "Original image shape: (162, 207, 443)\n",
      "data type: uint8\n",
      "data range: 0 247\n",
      "number of images: 1\n"
     ]
    }
   ],
   "source": [
    "from cellpose_omni import io, transforms\n",
    "from omnipose.utils import normalize99\n",
    "\n",
    "imgs = [io.imread(f) for f in files]\n",
    "\n",
    "# print some info about the images.\n",
    "for i in imgs:\n",
    "    print('Original image shape:',i.shape)\n",
    "    print('data type:',i.dtype)\n",
    "    print('data range:', i.min(),i.max())\n",
    "nimg = len(imgs)\n",
    "print('number of images:',nimg)"
   ]
  },
  {
   "cell_type": "code",
   "execution_count": 7,
   "metadata": {},
   "outputs": [
    {
     "name": "stdout",
     "output_type": "stream",
     "text": [
      "2024-06-17 22:59:43,742 [INFO] ** TORCH GPU version installed and working. **\n",
      "loading..\n",
      "checkpoint 1\n",
      "2024-06-17 22:59:43,743 [INFO] >>plant_cp<< model set to be used\n",
      "net_avg is False\n",
      "model range is range(0, 1)\n",
      "2024-06-17 22:59:43,746 [INFO] ** TORCH GPU version installed and working. **\n",
      "2024-06-17 22:59:43,747 [INFO] >>>> using GPU\n"
     ]
    }
   ],
   "source": [
    "from cellpose_omni import models, core\n",
    "\n",
    "model_name = \"plant_cp\"\n",
    "\n",
    "use_GPU = core.use_gpu()\n",
    "model = models.CellposeModel(gpu=use_GPU, \n",
    "                             model_type=model_name, \n",
    "                             net_avg=False, \n",
    "                             diam_mean=0, \n",
    "                             nclasses=3, \n",
    "                             dim=2, \n",
    "                             nchan=2)"
   ]
  },
  {
   "cell_type": "code",
   "execution_count": 8,
   "metadata": {},
   "outputs": [
    {
     "name": "stdout",
     "output_type": "stream",
     "text": [
      "called eval!\n",
      "check point 1\n",
      "called eval!\n",
      "check point 2\n",
      "check point 3\n",
      "2024-06-17 23:04:41,778 [INFO] multi-stack tiff read in as having 162 planes 1 channels\n",
      "2024-06-17 23:04:42,301 [INFO] running YX: 162 planes of size (207, 443)\n",
      "2024-06-17 23:04:42,331 [INFO] 0%|          | 0/15 [00:00<?, ?it/s]\n",
      "2024-06-17 23:04:51,132 [INFO] 7%|6         | 1/15 [00:08<02:03,  8.80s/it]\n",
      "2024-06-17 23:04:51,379 [INFO] 13%|#3        | 2/15 [00:09<00:48,  3.77s/it]\n",
      "2024-06-17 23:04:51,630 [INFO] 20%|##        | 3/15 [00:09<00:25,  2.16s/it]\n",
      "2024-06-17 23:04:51,845 [INFO] 27%|##6       | 4/15 [00:09<00:15,  1.39s/it]\n",
      "2024-06-17 23:04:52,066 [INFO] 33%|###3      | 5/15 [00:09<00:09,  1.03it/s]\n",
      "2024-06-17 23:04:52,283 [INFO] 40%|####      | 6/15 [00:09<00:06,  1.40it/s]\n",
      "2024-06-17 23:04:52,519 [INFO] 47%|####6     | 7/15 [00:10<00:04,  1.79it/s]\n",
      "2024-06-17 23:04:52,722 [INFO] 53%|#####3    | 8/15 [00:10<00:03,  2.25it/s]\n",
      "2024-06-17 23:04:52,973 [INFO] 60%|######    | 9/15 [00:10<00:02,  2.60it/s]\n",
      "2024-06-17 23:04:53,230 [INFO] 67%|######6   | 10/15 [00:10<00:01,  2.90it/s]\n",
      "2024-06-17 23:04:53,435 [INFO] 73%|#######3  | 11/15 [00:11<00:01,  3.31it/s]\n",
      "2024-06-17 23:04:53,665 [INFO] 80%|########  | 12/15 [00:11<00:00,  3.57it/s]\n",
      "2024-06-17 23:04:53,877 [INFO] 87%|########6 | 13/15 [00:11<00:00,  3.85it/s]\n",
      "2024-06-17 23:04:54,101 [INFO] 93%|#########3| 14/15 [00:11<00:00,  4.02it/s]\n",
      "2024-06-17 23:04:54,307 [INFO] 100%|##########| 15/15 [00:11<00:00,  4.24it/s]\n",
      "2024-06-17 23:04:54,309 [INFO] 100%|##########| 15/15 [00:11<00:00,  1.25it/s]\n",
      "2024-06-17 23:04:54,474 [INFO] running ZY: 207 planes of size (162, 443)\n",
      "2024-06-17 23:04:54,506 [INFO] 0%|          | 0/19 [00:00<?, ?it/s]\n",
      "2024-06-17 23:04:55,029 [INFO] 5%|5         | 1/19 [00:00<00:09,  1.92it/s]\n",
      "2024-06-17 23:04:55,258 [INFO] 11%|#         | 2/19 [00:00<00:05,  2.87it/s]\n",
      "2024-06-17 23:04:55,462 [INFO] 16%|#5        | 3/19 [00:00<00:04,  3.53it/s]\n",
      "2024-06-17 23:04:55,680 [INFO] 21%|##1       | 4/19 [00:01<00:03,  3.88it/s]\n",
      "2024-06-17 23:04:55,939 [INFO] 26%|##6       | 5/19 [00:01<00:03,  3.88it/s]\n",
      "2024-06-17 23:04:56,185 [INFO] 32%|###1      | 6/19 [00:01<00:03,  3.94it/s]\n",
      "2024-06-17 23:04:56,429 [INFO] 37%|###6      | 7/19 [00:01<00:03,  3.99it/s]\n",
      "2024-06-17 23:04:56,641 [INFO] 42%|####2     | 8/19 [00:02<00:02,  4.19it/s]\n",
      "2024-06-17 23:04:56,884 [INFO] 47%|####7     | 9/19 [00:02<00:02,  4.17it/s]\n",
      "2024-06-17 23:04:57,093 [INFO] 53%|#####2    | 10/19 [00:02<00:02,  4.34it/s]\n",
      "2024-06-17 23:04:57,320 [INFO] 58%|#####7    | 11/19 [00:02<00:01,  4.36it/s]\n",
      "2024-06-17 23:04:57,529 [INFO] 63%|######3   | 12/19 [00:03<00:01,  4.48it/s]\n",
      "2024-06-17 23:04:57,750 [INFO] 68%|######8   | 13/19 [00:03<00:01,  4.50it/s]\n",
      "2024-06-17 23:04:57,953 [INFO] 74%|#######3  | 14/19 [00:03<00:01,  4.62it/s]\n",
      "2024-06-17 23:04:58,180 [INFO] 79%|#######8  | 15/19 [00:03<00:00,  4.55it/s]\n",
      "2024-06-17 23:04:58,389 [INFO] 84%|########4 | 16/19 [00:03<00:00,  4.62it/s]\n",
      "2024-06-17 23:04:58,620 [INFO] 89%|########9 | 17/19 [00:04<00:00,  4.53it/s]\n",
      "2024-06-17 23:04:58,853 [INFO] 95%|#########4| 18/19 [00:04<00:00,  4.46it/s]\n",
      "2024-06-17 23:04:59,056 [INFO] 100%|##########| 19/19 [00:04<00:00,  4.58it/s]\n",
      "2024-06-17 23:04:59,058 [INFO] 100%|##########| 19/19 [00:04<00:00,  4.18it/s]\n",
      "2024-06-17 23:04:59,337 [INFO] running ZX: 443 planes of size (162, 207)\n",
      "2024-06-17 23:04:59,377 [INFO] 0%|          | 0/14 [00:00<?, ?it/s]\n",
      "2024-06-17 23:04:59,602 [INFO] 7%|7         | 1/14 [00:00<00:02,  4.48it/s]\n",
      "2024-06-17 23:04:59,810 [INFO] 14%|#4        | 2/14 [00:00<00:02,  4.68it/s]\n",
      "2024-06-17 23:05:00,029 [INFO] 21%|##1       | 3/14 [00:00<00:02,  4.63it/s]\n",
      "2024-06-17 23:05:00,234 [INFO] 29%|##8       | 4/14 [00:00<00:02,  4.72it/s]\n",
      "2024-06-17 23:05:00,455 [INFO] 36%|###5      | 5/14 [00:01<00:01,  4.65it/s]\n",
      "2024-06-17 23:05:00,663 [INFO] 43%|####2     | 6/14 [00:01<00:01,  4.70it/s]\n",
      "2024-06-17 23:05:00,903 [INFO] 50%|#####     | 7/14 [00:01<00:01,  4.51it/s]\n",
      "2024-06-17 23:05:01,117 [INFO] 57%|#####7    | 8/14 [00:01<00:01,  4.56it/s]\n",
      "2024-06-17 23:05:01,362 [INFO] 64%|######4   | 9/14 [00:01<00:01,  4.40it/s]\n",
      "2024-06-17 23:05:01,633 [INFO] 71%|#######1  | 10/14 [00:02<00:00,  4.15it/s]\n",
      "2024-06-17 23:05:01,846 [INFO] 79%|#######8  | 11/14 [00:02<00:00,  4.30it/s]\n",
      "2024-06-17 23:05:02,059 [INFO] 86%|########5 | 12/14 [00:02<00:00,  4.42it/s]\n",
      "2024-06-17 23:05:02,261 [INFO] 93%|#########2| 13/14 [00:02<00:00,  4.57it/s]\n",
      "2024-06-17 23:05:02,481 [INFO] 100%|##########| 14/14 [00:03<00:00,  4.56it/s]\n",
      "2024-06-17 23:05:02,483 [INFO] 100%|##########| 14/14 [00:03<00:00,  4.51it/s]\n",
      "2024-06-17 23:05:03,746 [INFO] network run in 21.93s\n"
     ]
    },
    {
     "ename": "ValueError",
     "evalue": "operands could not be broadcast together with remapped shapes [original->remapped]: (3,2)  and requested shape (4,2)",
     "output_type": "error",
     "traceback": [
      "\u001b[0;31m---------------------------------------------------------------------------\u001b[0m",
      "\u001b[0;31mValueError\u001b[0m                                Traceback (most recent call last)",
      "Cell \u001b[0;32mIn[8], line 1\u001b[0m\n\u001b[0;32m----> 1\u001b[0m masks_cp, flows_cp, _ \u001b[38;5;241m=\u001b[39m \u001b[43mmodel\u001b[49m\u001b[38;5;241;43m.\u001b[39;49m\u001b[43meval\u001b[49m\u001b[43m(\u001b[49m\u001b[43mimgs\u001b[49m\u001b[43m,\u001b[49m\n\u001b[1;32m      2\u001b[0m \u001b[43m                                   \u001b[49m\u001b[43mchannels\u001b[49m\u001b[38;5;241;43m=\u001b[39;49m\u001b[43m[\u001b[49m\u001b[38;5;241;43m0\u001b[39;49m\u001b[43m,\u001b[49m\u001b[38;5;241;43m0\u001b[39;49m\u001b[43m]\u001b[49m\u001b[43m,\u001b[49m\n\u001b[1;32m      3\u001b[0m \u001b[43m                                   \u001b[49m\u001b[43mrescale\u001b[49m\u001b[38;5;241;43m=\u001b[39;49m\u001b[38;5;28;43;01mNone\u001b[39;49;00m\u001b[43m,\u001b[49m\n\u001b[1;32m      4\u001b[0m \u001b[43m                                   \u001b[49m\u001b[43mmask_threshold\u001b[49m\u001b[38;5;241;43m=\u001b[39;49m\u001b[38;5;241;43m0\u001b[39;49m\u001b[43m,\u001b[49m\n\u001b[1;32m      5\u001b[0m \u001b[43m                                   \u001b[49m\u001b[43mnet_avg\u001b[49m\u001b[38;5;241;43m=\u001b[39;49m\u001b[38;5;241;43m0\u001b[39;49m\u001b[43m,\u001b[49m\n\u001b[1;32m      6\u001b[0m \u001b[43m                                   \u001b[49m\u001b[43mtransparency\u001b[49m\u001b[38;5;241;43m=\u001b[39;49m\u001b[38;5;28;43;01mTrue\u001b[39;49;00m\u001b[43m,\u001b[49m\u001b[43m \u001b[49m\n\u001b[1;32m      7\u001b[0m \u001b[43m                                   \u001b[49m\u001b[43mflow_threshold\u001b[49m\u001b[38;5;241;43m=\u001b[39;49m\u001b[38;5;241;43m0.\u001b[39;49m\u001b[43m,\u001b[49m\n\u001b[1;32m      8\u001b[0m \u001b[43m                                   \u001b[49m\u001b[43mverbose\u001b[49m\u001b[38;5;241;43m=\u001b[39;49m\u001b[38;5;241;43m0\u001b[39;49m\u001b[43m,\u001b[49m\u001b[43m \u001b[49m\n\u001b[1;32m      9\u001b[0m \u001b[43m                                   \u001b[49m\u001b[43mtile\u001b[49m\u001b[38;5;241;43m=\u001b[39;49m\u001b[38;5;241;43m0\u001b[39;49m\u001b[43m,\u001b[49m\n\u001b[1;32m     10\u001b[0m \u001b[43m                                   \u001b[49m\u001b[43mcompute_masks\u001b[49m\u001b[38;5;241;43m=\u001b[39;49m\u001b[38;5;241;43m1\u001b[39;49m\u001b[43m,\u001b[49m\u001b[43m \u001b[49m\n\u001b[1;32m     11\u001b[0m \u001b[43m                                   \u001b[49m\u001b[43mdo_3D\u001b[49m\u001b[38;5;241;43m=\u001b[39;49m\u001b[38;5;28;43;01mTrue\u001b[39;49;00m\u001b[43m,\u001b[49m\u001b[43m \u001b[49m\n\u001b[1;32m     12\u001b[0m \u001b[43m                                   \u001b[49m\u001b[43momni\u001b[49m\u001b[38;5;241;43m=\u001b[39;49m\u001b[38;5;241;43m1\u001b[39;49m\u001b[43m,\u001b[49m\n\u001b[1;32m     13\u001b[0m \u001b[43m                                   \u001b[49m\u001b[43mflow_factor\u001b[49m\u001b[38;5;241;43m=\u001b[39;49m\u001b[38;5;241;43m10\u001b[39;49m\u001b[43m)\u001b[49m\n",
      "File \u001b[0;32m~/envs/omnipose/lib/python3.10/site-packages/cellpose_omni/models.py:658\u001b[0m, in \u001b[0;36mCellposeModel.eval\u001b[0;34m(self, x, batch_size, channels, channel_axis, z_axis, normalize, invert, rescale, diameter, do_3D, anisotropy, net_avg, augment, tile, tile_overlap, resample, interp, cluster, boundary_seg, affinity_seg, flow_threshold, mask_threshold, diam_threshold, niter, cellprob_threshold, dist_threshold, flow_factor, compute_masks, min_size, stitch_threshold, progress, omni, calc_trace, verbose, transparency, loop_run, model_loaded)\u001b[0m\n\u001b[1;32m    656\u001b[0m iterator \u001b[38;5;241m=\u001b[39m trange(nimg, file\u001b[38;5;241m=\u001b[39mtqdm_out) \u001b[38;5;28;01mif\u001b[39;00m nimg\u001b[38;5;241m>\u001b[39m\u001b[38;5;241m1\u001b[39m \u001b[38;5;28;01melse\u001b[39;00m \u001b[38;5;28mrange\u001b[39m(nimg)\n\u001b[1;32m    657\u001b[0m \u001b[38;5;28;01mfor\u001b[39;00m i \u001b[38;5;129;01min\u001b[39;00m iterator:\n\u001b[0;32m--> 658\u001b[0m     maski, stylei, flowi \u001b[38;5;241m=\u001b[39m \u001b[38;5;28;43mself\u001b[39;49m\u001b[38;5;241;43m.\u001b[39;49m\u001b[43meval\u001b[49m\u001b[43m(\u001b[49m\u001b[43mx\u001b[49m\u001b[43m[\u001b[49m\u001b[43mi\u001b[49m\u001b[43m]\u001b[49m\u001b[43m,\u001b[49m\u001b[43m \u001b[49m\n\u001b[1;32m    659\u001b[0m \u001b[43m                                     \u001b[49m\u001b[43mbatch_size\u001b[49m\u001b[38;5;241;43m=\u001b[39;49m\u001b[43mbatch_size\u001b[49m\u001b[43m,\u001b[49m\u001b[43m \u001b[49m\n\u001b[1;32m    660\u001b[0m \u001b[43m                                     \u001b[49m\u001b[43mchannels\u001b[49m\u001b[38;5;241;43m=\u001b[39;49m\u001b[43m \u001b[49m\u001b[43mchannels\u001b[49m\u001b[43m \u001b[49m\u001b[38;5;28;43;01mif\u001b[39;49;00m\u001b[43m \u001b[49m\u001b[43mchannels\u001b[49m\u001b[43m \u001b[49m\u001b[38;5;129;43;01mis\u001b[39;49;00m\u001b[43m \u001b[49m\u001b[38;5;28;43;01mNone\u001b[39;49;00m\u001b[43m \u001b[49m\u001b[38;5;28;43;01melse\u001b[39;49;00m\u001b[43m \u001b[49m\u001b[43mchannels\u001b[49m\u001b[43m[\u001b[49m\u001b[43mi\u001b[49m\u001b[43m]\u001b[49m\u001b[43m \u001b[49m\u001b[38;5;28;43;01mif\u001b[39;49;00m\u001b[43m \u001b[49m\u001b[43m(\u001b[49m\u001b[38;5;28;43mlen\u001b[39;49m\u001b[43m(\u001b[49m\u001b[43mchannels\u001b[49m\u001b[43m)\u001b[49m\u001b[38;5;241;43m==\u001b[39;49m\u001b[38;5;28;43mlen\u001b[39;49m\u001b[43m(\u001b[49m\u001b[43mx\u001b[49m\u001b[43m)\u001b[49m\u001b[43m \u001b[49m\u001b[38;5;129;43;01mand\u001b[39;49;00m\u001b[43m \u001b[49m\n\u001b[1;32m    661\u001b[0m \u001b[43m                                                              \u001b[49m\u001b[43m(\u001b[49m\u001b[38;5;28;43misinstance\u001b[39;49m\u001b[43m(\u001b[49m\u001b[43mchannels\u001b[49m\u001b[43m[\u001b[49m\u001b[43mi\u001b[49m\u001b[43m]\u001b[49m\u001b[43m,\u001b[49m\u001b[43m \u001b[49m\u001b[38;5;28;43mlist\u001b[39;49m\u001b[43m)\u001b[49m\u001b[43m \u001b[49m\u001b[38;5;129;43;01mor\u001b[39;49;00m\u001b[43m \u001b[49m\u001b[38;5;28;43misinstance\u001b[39;49m\u001b[43m(\u001b[49m\u001b[43mchannels\u001b[49m\u001b[43m[\u001b[49m\u001b[43mi\u001b[49m\u001b[43m]\u001b[49m\u001b[43m,\u001b[49m\u001b[43m \u001b[49m\u001b[43mnp\u001b[49m\u001b[38;5;241;43m.\u001b[39;49m\u001b[43mndarray\u001b[49m\u001b[43m)\u001b[49m\u001b[43m)\u001b[49m\u001b[43m \u001b[49m\u001b[38;5;129;43;01mand\u001b[39;49;00m\n\u001b[1;32m    662\u001b[0m \u001b[43m                                                              \u001b[49m\u001b[38;5;28;43mlen\u001b[39;49m\u001b[43m(\u001b[49m\u001b[43mchannels\u001b[49m\u001b[43m[\u001b[49m\u001b[43mi\u001b[49m\u001b[43m]\u001b[49m\u001b[43m)\u001b[49m\u001b[38;5;241;43m==\u001b[39;49m\u001b[38;5;241;43m2\u001b[39;49m\u001b[43m)\u001b[49m\u001b[43m \u001b[49m\u001b[38;5;28;43;01melse\u001b[39;49;00m\u001b[43m \u001b[49m\u001b[43mchannels\u001b[49m\u001b[43m,\u001b[49m\u001b[43m \u001b[49m\n\u001b[1;32m    663\u001b[0m \u001b[43m                                     \u001b[49m\u001b[43mchannel_axis\u001b[49m\u001b[38;5;241;43m=\u001b[39;49m\u001b[43mchannel_axis\u001b[49m\u001b[43m,\u001b[49m\u001b[43m \u001b[49m\n\u001b[1;32m    664\u001b[0m \u001b[43m                                     \u001b[49m\u001b[43mz_axis\u001b[49m\u001b[38;5;241;43m=\u001b[39;49m\u001b[43mz_axis\u001b[49m\u001b[43m,\u001b[49m\u001b[43m \u001b[49m\n\u001b[1;32m    665\u001b[0m \u001b[43m                                     \u001b[49m\u001b[43mnormalize\u001b[49m\u001b[38;5;241;43m=\u001b[39;49m\u001b[43mnormalize\u001b[49m\u001b[43m,\u001b[49m\u001b[43m \u001b[49m\n\u001b[1;32m    666\u001b[0m \u001b[43m                                     \u001b[49m\u001b[43minvert\u001b[49m\u001b[38;5;241;43m=\u001b[39;49m\u001b[43minvert\u001b[49m\u001b[43m,\u001b[49m\n\u001b[1;32m    667\u001b[0m \u001b[43m                                     \u001b[49m\u001b[43mrescale\u001b[49m\u001b[38;5;241;43m=\u001b[39;49m\u001b[43mrescale\u001b[49m\u001b[43m[\u001b[49m\u001b[43mi\u001b[49m\u001b[43m]\u001b[49m\u001b[43m \u001b[49m\u001b[38;5;28;43;01mif\u001b[39;49;00m\u001b[43m \u001b[49m\u001b[38;5;28;43misinstance\u001b[39;49m\u001b[43m(\u001b[49m\u001b[43mrescale\u001b[49m\u001b[43m,\u001b[49m\u001b[43m \u001b[49m\u001b[38;5;28;43mlist\u001b[39;49m\u001b[43m)\u001b[49m\u001b[43m \u001b[49m\u001b[38;5;129;43;01mor\u001b[39;49;00m\u001b[43m \u001b[49m\u001b[38;5;28;43misinstance\u001b[39;49m\u001b[43m(\u001b[49m\u001b[43mrescale\u001b[49m\u001b[43m,\u001b[49m\u001b[43m \u001b[49m\u001b[43mnp\u001b[49m\u001b[38;5;241;43m.\u001b[39;49m\u001b[43mndarray\u001b[49m\u001b[43m)\u001b[49m\u001b[43m \u001b[49m\u001b[38;5;28;43;01melse\u001b[39;49;00m\u001b[43m \u001b[49m\u001b[43mrescale\u001b[49m\u001b[43m,\u001b[49m\n\u001b[1;32m    668\u001b[0m \u001b[43m                                     \u001b[49m\u001b[43mdiameter\u001b[49m\u001b[38;5;241;43m=\u001b[39;49m\u001b[43mdiameter\u001b[49m\u001b[43m[\u001b[49m\u001b[43mi\u001b[49m\u001b[43m]\u001b[49m\u001b[43m \u001b[49m\u001b[38;5;28;43;01mif\u001b[39;49;00m\u001b[43m \u001b[49m\u001b[38;5;28;43misinstance\u001b[39;49m\u001b[43m(\u001b[49m\u001b[43mdiameter\u001b[49m\u001b[43m,\u001b[49m\u001b[43m \u001b[49m\u001b[38;5;28;43mlist\u001b[39;49m\u001b[43m)\u001b[49m\u001b[43m \u001b[49m\u001b[38;5;129;43;01mor\u001b[39;49;00m\u001b[43m \u001b[49m\u001b[38;5;28;43misinstance\u001b[39;49m\u001b[43m(\u001b[49m\u001b[43mdiameter\u001b[49m\u001b[43m,\u001b[49m\u001b[43m \u001b[49m\u001b[43mnp\u001b[49m\u001b[38;5;241;43m.\u001b[39;49m\u001b[43mndarray\u001b[49m\u001b[43m)\u001b[49m\u001b[43m \u001b[49m\u001b[38;5;28;43;01melse\u001b[39;49;00m\u001b[43m \u001b[49m\u001b[43mdiameter\u001b[49m\u001b[43m,\u001b[49m\u001b[43m \u001b[49m\n\u001b[1;32m    669\u001b[0m \u001b[43m                                     \u001b[49m\u001b[43mdo_3D\u001b[49m\u001b[38;5;241;43m=\u001b[39;49m\u001b[43mdo_3D\u001b[49m\u001b[43m,\u001b[49m\u001b[43m \u001b[49m\n\u001b[1;32m    670\u001b[0m \u001b[43m                                     \u001b[49m\u001b[43manisotropy\u001b[49m\u001b[38;5;241;43m=\u001b[39;49m\u001b[43manisotropy\u001b[49m\u001b[43m,\u001b[49m\u001b[43m \u001b[49m\n\u001b[1;32m    671\u001b[0m \u001b[43m                                     \u001b[49m\u001b[43mnet_avg\u001b[49m\u001b[38;5;241;43m=\u001b[39;49m\u001b[43mnet_avg\u001b[49m\u001b[43m,\u001b[49m\u001b[43m \u001b[49m\n\u001b[1;32m    672\u001b[0m \u001b[43m                                     \u001b[49m\u001b[43maugment\u001b[49m\u001b[38;5;241;43m=\u001b[39;49m\u001b[43maugment\u001b[49m\u001b[43m,\u001b[49m\u001b[43m \u001b[49m\n\u001b[1;32m    673\u001b[0m \u001b[43m                                     \u001b[49m\u001b[43mtile\u001b[49m\u001b[38;5;241;43m=\u001b[39;49m\u001b[43mtile\u001b[49m\u001b[43m,\u001b[49m\u001b[43m \u001b[49m\n\u001b[1;32m    674\u001b[0m \u001b[43m                                     \u001b[49m\u001b[43mtile_overlap\u001b[49m\u001b[38;5;241;43m=\u001b[39;49m\u001b[43mtile_overlap\u001b[49m\u001b[43m,\u001b[49m\n\u001b[1;32m    675\u001b[0m \u001b[43m                                     \u001b[49m\u001b[43mresample\u001b[49m\u001b[38;5;241;43m=\u001b[39;49m\u001b[43mresample\u001b[49m\u001b[43m,\u001b[49m\u001b[43m \u001b[49m\n\u001b[1;32m    676\u001b[0m \u001b[43m                                     \u001b[49m\u001b[43minterp\u001b[49m\u001b[38;5;241;43m=\u001b[39;49m\u001b[43minterp\u001b[49m\u001b[43m,\u001b[49m\n\u001b[1;32m    677\u001b[0m \u001b[43m                                     \u001b[49m\u001b[43mcluster\u001b[49m\u001b[38;5;241;43m=\u001b[39;49m\u001b[43mcluster\u001b[49m\u001b[43m,\u001b[49m\n\u001b[1;32m    678\u001b[0m \u001b[43m                                     \u001b[49m\u001b[43mboundary_seg\u001b[49m\u001b[38;5;241;43m=\u001b[39;49m\u001b[43mboundary_seg\u001b[49m\u001b[43m,\u001b[49m\n\u001b[1;32m    679\u001b[0m \u001b[43m                                     \u001b[49m\u001b[43maffinity_seg\u001b[49m\u001b[38;5;241;43m=\u001b[39;49m\u001b[43maffinity_seg\u001b[49m\u001b[43m,\u001b[49m\n\u001b[1;32m    680\u001b[0m \u001b[43m                                     \u001b[49m\u001b[43mmask_threshold\u001b[49m\u001b[38;5;241;43m=\u001b[39;49m\u001b[43mmask_threshold\u001b[49m\u001b[43m,\u001b[49m\u001b[43m \u001b[49m\n\u001b[1;32m    681\u001b[0m \u001b[43m                                     \u001b[49m\u001b[43mdiam_threshold\u001b[49m\u001b[38;5;241;43m=\u001b[39;49m\u001b[43mdiam_threshold\u001b[49m\u001b[43m,\u001b[49m\n\u001b[1;32m    682\u001b[0m \u001b[43m                                     \u001b[49m\u001b[43mflow_threshold\u001b[49m\u001b[38;5;241;43m=\u001b[39;49m\u001b[43mflow_threshold\u001b[49m\u001b[43m,\u001b[49m\u001b[43m \u001b[49m\n\u001b[1;32m    683\u001b[0m \u001b[43m                                     \u001b[49m\u001b[43mniter\u001b[49m\u001b[38;5;241;43m=\u001b[39;49m\u001b[43mniter\u001b[49m\u001b[43m,\u001b[49m\n\u001b[1;32m    684\u001b[0m \u001b[43m                                     \u001b[49m\u001b[43mflow_factor\u001b[49m\u001b[38;5;241;43m=\u001b[39;49m\u001b[43mflow_factor\u001b[49m\u001b[43m,\u001b[49m\n\u001b[1;32m    685\u001b[0m \u001b[43m                                     \u001b[49m\u001b[43mcompute_masks\u001b[49m\u001b[38;5;241;43m=\u001b[39;49m\u001b[43mcompute_masks\u001b[49m\u001b[43m,\u001b[49m\u001b[43m \u001b[49m\n\u001b[1;32m    686\u001b[0m \u001b[43m                                     \u001b[49m\u001b[43mmin_size\u001b[49m\u001b[38;5;241;43m=\u001b[39;49m\u001b[43mmin_size\u001b[49m\u001b[43m,\u001b[49m\u001b[43m \u001b[49m\n\u001b[1;32m    687\u001b[0m \u001b[43m                                     \u001b[49m\u001b[43mstitch_threshold\u001b[49m\u001b[38;5;241;43m=\u001b[39;49m\u001b[43mstitch_threshold\u001b[49m\u001b[43m,\u001b[49m\u001b[43m \u001b[49m\n\u001b[1;32m    688\u001b[0m \u001b[43m                                     \u001b[49m\u001b[43mprogress\u001b[49m\u001b[38;5;241;43m=\u001b[39;49m\u001b[43mprogress\u001b[49m\u001b[43m,\u001b[49m\n\u001b[1;32m    689\u001b[0m \u001b[43m                                     \u001b[49m\u001b[43momni\u001b[49m\u001b[38;5;241;43m=\u001b[39;49m\u001b[43momni\u001b[49m\u001b[43m,\u001b[49m\n\u001b[1;32m    690\u001b[0m \u001b[43m                                     \u001b[49m\u001b[43mcalc_trace\u001b[49m\u001b[38;5;241;43m=\u001b[39;49m\u001b[43mcalc_trace\u001b[49m\u001b[43m,\u001b[49m\u001b[43m \u001b[49m\n\u001b[1;32m    691\u001b[0m \u001b[43m                                     \u001b[49m\u001b[43mverbose\u001b[49m\u001b[38;5;241;43m=\u001b[39;49m\u001b[43mverbose\u001b[49m\u001b[43m,\u001b[49m\n\u001b[1;32m    692\u001b[0m \u001b[43m                                     \u001b[49m\u001b[43mtransparency\u001b[49m\u001b[38;5;241;43m=\u001b[39;49m\u001b[43mtransparency\u001b[49m\u001b[43m,\u001b[49m\n\u001b[1;32m    693\u001b[0m \u001b[43m                                     \u001b[49m\u001b[43mloop_run\u001b[49m\u001b[38;5;241;43m=\u001b[39;49m\u001b[43m(\u001b[49m\u001b[43mi\u001b[49m\u001b[38;5;241;43m>\u001b[39;49m\u001b[38;5;241;43m0\u001b[39;49m\u001b[43m)\u001b[49m\u001b[43m,\u001b[49m\n\u001b[1;32m    694\u001b[0m \u001b[43m                                     \u001b[49m\u001b[43mmodel_loaded\u001b[49m\u001b[38;5;241;43m=\u001b[39;49m\u001b[43mmodel_loaded\u001b[49m\u001b[43m)\u001b[49m\n\u001b[1;32m    695\u001b[0m     masks\u001b[38;5;241m.\u001b[39mappend(maski)\n\u001b[1;32m    696\u001b[0m     flows\u001b[38;5;241m.\u001b[39mappend(flowi)\n",
      "File \u001b[0;32m~/envs/omnipose/lib/python3.10/site-packages/cellpose_omni/models.py:728\u001b[0m, in \u001b[0;36mCellposeModel.eval\u001b[0;34m(self, x, batch_size, channels, channel_axis, z_axis, normalize, invert, rescale, diameter, do_3D, anisotropy, net_avg, augment, tile, tile_overlap, resample, interp, cluster, boundary_seg, affinity_seg, flow_threshold, mask_threshold, diam_threshold, niter, cellprob_threshold, dist_threshold, flow_factor, compute_masks, min_size, stitch_threshold, progress, omni, calc_trace, verbose, transparency, loop_run, model_loaded)\u001b[0m\n\u001b[1;32m    725\u001b[0m rescale \u001b[38;5;241m=\u001b[39m \u001b[38;5;28mself\u001b[39m\u001b[38;5;241m.\u001b[39mdiam_mean \u001b[38;5;241m/\u001b[39m diameter \u001b[38;5;28;01mif\u001b[39;00m (rescale \u001b[38;5;129;01mis\u001b[39;00m \u001b[38;5;28;01mNone\u001b[39;00m \u001b[38;5;129;01mand\u001b[39;00m (diameter \u001b[38;5;129;01mis\u001b[39;00m \u001b[38;5;129;01mnot\u001b[39;00m \u001b[38;5;28;01mNone\u001b[39;00m \u001b[38;5;129;01mand\u001b[39;00m diameter\u001b[38;5;241m>\u001b[39m\u001b[38;5;241m0\u001b[39m)) \u001b[38;5;28;01melse\u001b[39;00m rescale\n\u001b[1;32m    726\u001b[0m rescale \u001b[38;5;241m=\u001b[39m \u001b[38;5;241m1.0\u001b[39m \u001b[38;5;28;01mif\u001b[39;00m rescale \u001b[38;5;129;01mis\u001b[39;00m \u001b[38;5;28;01mNone\u001b[39;00m \u001b[38;5;28;01melse\u001b[39;00m rescale\n\u001b[0;32m--> 728\u001b[0m masks, styles, dP, cellprob, p, bd, tr, affinity, bounds  \u001b[38;5;241m=\u001b[39m \u001b[38;5;28;43mself\u001b[39;49m\u001b[38;5;241;43m.\u001b[39;49m\u001b[43m_run_cp\u001b[49m\u001b[43m(\u001b[49m\u001b[43mx\u001b[49m\u001b[43m,\u001b[49m\u001b[43m \u001b[49m\n\u001b[1;32m    729\u001b[0m \u001b[43m                                                                          \u001b[49m\u001b[43mcompute_masks\u001b[49m\u001b[38;5;241;43m=\u001b[39;49m\u001b[43mcompute_masks\u001b[49m\u001b[43m,\u001b[49m\n\u001b[1;32m    730\u001b[0m \u001b[43m                                                                          \u001b[49m\u001b[43mnormalize\u001b[49m\u001b[38;5;241;43m=\u001b[39;49m\u001b[43mnormalize\u001b[49m\u001b[43m,\u001b[49m\n\u001b[1;32m    731\u001b[0m \u001b[43m                                                                          \u001b[49m\u001b[43minvert\u001b[49m\u001b[38;5;241;43m=\u001b[39;49m\u001b[43minvert\u001b[49m\u001b[43m,\u001b[49m\n\u001b[1;32m    732\u001b[0m \u001b[43m                                                                          \u001b[49m\u001b[43mrescale\u001b[49m\u001b[38;5;241;43m=\u001b[39;49m\u001b[43mrescale\u001b[49m\u001b[43m,\u001b[49m\u001b[43m \u001b[49m\n\u001b[1;32m    733\u001b[0m \u001b[43m                                                                          \u001b[49m\u001b[43mnet_avg\u001b[49m\u001b[38;5;241;43m=\u001b[39;49m\u001b[43mnet_avg\u001b[49m\u001b[43m,\u001b[49m\u001b[43m \u001b[49m\n\u001b[1;32m    734\u001b[0m \u001b[43m                                                                          \u001b[49m\u001b[43mresample\u001b[49m\u001b[38;5;241;43m=\u001b[39;49m\u001b[43mresample\u001b[49m\u001b[43m,\u001b[49m\n\u001b[1;32m    735\u001b[0m \u001b[43m                                                                          \u001b[49m\u001b[43maugment\u001b[49m\u001b[38;5;241;43m=\u001b[39;49m\u001b[43maugment\u001b[49m\u001b[43m,\u001b[49m\u001b[43m \u001b[49m\n\u001b[1;32m    736\u001b[0m \u001b[43m                                                                          \u001b[49m\u001b[43mtile\u001b[49m\u001b[38;5;241;43m=\u001b[39;49m\u001b[43mtile\u001b[49m\u001b[43m,\u001b[49m\u001b[43m \u001b[49m\n\u001b[1;32m    737\u001b[0m \u001b[43m                                                                          \u001b[49m\u001b[43mtile_overlap\u001b[49m\u001b[38;5;241;43m=\u001b[39;49m\u001b[43mtile_overlap\u001b[49m\u001b[43m,\u001b[49m\n\u001b[1;32m    738\u001b[0m \u001b[43m                                                                          \u001b[49m\u001b[43mmask_threshold\u001b[49m\u001b[38;5;241;43m=\u001b[39;49m\u001b[43mmask_threshold\u001b[49m\u001b[43m,\u001b[49m\u001b[43m \u001b[49m\n\u001b[1;32m    739\u001b[0m \u001b[43m                                                                          \u001b[49m\u001b[43mdiam_threshold\u001b[49m\u001b[38;5;241;43m=\u001b[39;49m\u001b[43mdiam_threshold\u001b[49m\u001b[43m,\u001b[49m\n\u001b[1;32m    740\u001b[0m \u001b[43m                                                                          \u001b[49m\u001b[43mflow_threshold\u001b[49m\u001b[38;5;241;43m=\u001b[39;49m\u001b[43mflow_threshold\u001b[49m\u001b[43m,\u001b[49m\n\u001b[1;32m    741\u001b[0m \u001b[43m                                                                          \u001b[49m\u001b[43mniter\u001b[49m\u001b[38;5;241;43m=\u001b[39;49m\u001b[43mniter\u001b[49m\u001b[43m,\u001b[49m\n\u001b[1;32m    742\u001b[0m \u001b[43m                                                                          \u001b[49m\u001b[43mflow_factor\u001b[49m\u001b[38;5;241;43m=\u001b[39;49m\u001b[43mflow_factor\u001b[49m\u001b[43m,\u001b[49m\n\u001b[1;32m    743\u001b[0m \u001b[43m                                                                          \u001b[49m\u001b[43minterp\u001b[49m\u001b[38;5;241;43m=\u001b[39;49m\u001b[43minterp\u001b[49m\u001b[43m,\u001b[49m\n\u001b[1;32m    744\u001b[0m \u001b[43m                                                                          \u001b[49m\u001b[43mcluster\u001b[49m\u001b[38;5;241;43m=\u001b[39;49m\u001b[43mcluster\u001b[49m\u001b[43m,\u001b[49m\n\u001b[1;32m    745\u001b[0m \u001b[43m                                                                          \u001b[49m\u001b[43mboundary_seg\u001b[49m\u001b[38;5;241;43m=\u001b[39;49m\u001b[43mboundary_seg\u001b[49m\u001b[43m,\u001b[49m\u001b[43m  \u001b[49m\n\u001b[1;32m    746\u001b[0m \u001b[43m                                                                          \u001b[49m\u001b[43maffinity_seg\u001b[49m\u001b[38;5;241;43m=\u001b[39;49m\u001b[43maffinity_seg\u001b[49m\u001b[43m,\u001b[49m\n\u001b[1;32m    747\u001b[0m \u001b[43m                                                                          \u001b[49m\u001b[43mmin_size\u001b[49m\u001b[38;5;241;43m=\u001b[39;49m\u001b[43mmin_size\u001b[49m\u001b[43m,\u001b[49m\u001b[43m \u001b[49m\n\u001b[1;32m    748\u001b[0m \u001b[43m                                                                          \u001b[49m\u001b[43mdo_3D\u001b[49m\u001b[38;5;241;43m=\u001b[39;49m\u001b[43mdo_3D\u001b[49m\u001b[43m,\u001b[49m\u001b[43m \u001b[49m\n\u001b[1;32m    749\u001b[0m \u001b[43m                                                                          \u001b[49m\u001b[43manisotropy\u001b[49m\u001b[38;5;241;43m=\u001b[39;49m\u001b[43manisotropy\u001b[49m\u001b[43m,\u001b[49m\n\u001b[1;32m    750\u001b[0m \u001b[43m                                                                          \u001b[49m\u001b[43mstitch_threshold\u001b[49m\u001b[38;5;241;43m=\u001b[39;49m\u001b[43mstitch_threshold\u001b[49m\u001b[43m,\u001b[49m\n\u001b[1;32m    751\u001b[0m \u001b[43m                                                                          \u001b[49m\u001b[43momni\u001b[49m\u001b[38;5;241;43m=\u001b[39;49m\u001b[43momni\u001b[49m\u001b[43m,\u001b[49m\n\u001b[1;32m    752\u001b[0m \u001b[43m                                                                          \u001b[49m\u001b[43mcalc_trace\u001b[49m\u001b[38;5;241;43m=\u001b[39;49m\u001b[43mcalc_trace\u001b[49m\u001b[43m,\u001b[49m\n\u001b[1;32m    753\u001b[0m \u001b[43m                                                                          \u001b[49m\u001b[43mverbose\u001b[49m\u001b[38;5;241;43m=\u001b[39;49m\u001b[43mverbose\u001b[49m\u001b[43m)\u001b[49m\n\u001b[1;32m    755\u001b[0m \u001b[38;5;66;03m# the flow list stores: \u001b[39;00m\n\u001b[1;32m    756\u001b[0m \u001b[38;5;66;03m# (1) RGB representation of flows\u001b[39;00m\n\u001b[1;32m    757\u001b[0m \u001b[38;5;66;03m# (2) flow components\u001b[39;00m\n\u001b[0;32m   (...)\u001b[0m\n\u001b[1;32m    764\u001b[0m \n\u001b[1;32m    765\u001b[0m \u001b[38;5;66;03m# 5-8 were added in Omnipose, hence the unusual placement in the list. \u001b[39;00m\n\u001b[1;32m    767\u001b[0m flows \u001b[38;5;241m=\u001b[39m [plot\u001b[38;5;241m.\u001b[39mdx_to_circ(dP,transparency\u001b[38;5;241m=\u001b[39mtransparency) \n\u001b[1;32m    768\u001b[0m          \u001b[38;5;28;01mif\u001b[39;00m \u001b[38;5;28mself\u001b[39m\u001b[38;5;241m.\u001b[39mnclasses\u001b[38;5;241m>\u001b[39m\u001b[38;5;241m1\u001b[39m \u001b[38;5;28;01melse\u001b[39;00m np\u001b[38;5;241m.\u001b[39mzeros(cellprob\u001b[38;5;241m.\u001b[39mshape\u001b[38;5;241m+\u001b[39m(\u001b[38;5;241m3\u001b[39m\u001b[38;5;241m+\u001b[39mtransparency,),np\u001b[38;5;241m.\u001b[39muint8),\n\u001b[1;32m    769\u001b[0m          dP, cellprob, p, bd, tr, affinity, bounds]\n",
      "File \u001b[0;32m~/envs/omnipose/lib/python3.10/site-packages/cellpose_omni/models.py:915\u001b[0m, in \u001b[0;36mCellposeModel._run_cp\u001b[0;34m(self, x, compute_masks, normalize, invert, rescale, net_avg, resample, augment, tile, tile_overlap, mask_threshold, diam_threshold, flow_threshold, niter, flow_factor, min_size, interp, cluster, boundary_seg, affinity_seg, anisotropy, do_3D, stitch_threshold, omni, calc_trace, verbose)\u001b[0m\n\u001b[1;32m    912\u001b[0m         affinity \u001b[38;5;241m=\u001b[39m []\n\u001b[1;32m    913\u001b[0m     \u001b[38;5;28;01melse\u001b[39;00m:\n\u001b[1;32m    914\u001b[0m         \u001b[38;5;66;03m# run omnipose compute_masks\u001b[39;00m\n\u001b[0;32m--> 915\u001b[0m         masks, bounds, p, tr, affinity \u001b[38;5;241m=\u001b[39m \u001b[43momnipose\u001b[49m\u001b[38;5;241;43m.\u001b[39;49m\u001b[43mcore\u001b[49m\u001b[38;5;241;43m.\u001b[39;49m\u001b[43mcompute_masks\u001b[49m\u001b[43m(\u001b[49m\u001b[43mdP\u001b[49m\u001b[43m,\u001b[49m\u001b[43m \u001b[49m\u001b[43mcellprob\u001b[49m\u001b[43m,\u001b[49m\u001b[43m \u001b[49m\u001b[43mbd\u001b[49m\u001b[43m,\u001b[49m\n\u001b[1;32m    916\u001b[0m \u001b[43m                                                                   \u001b[49m\u001b[43mdo_3D\u001b[49m\u001b[38;5;241;43m=\u001b[39;49m\u001b[43mdo_3D\u001b[49m\u001b[43m,\u001b[49m\n\u001b[1;32m    917\u001b[0m \u001b[43m                                                                   \u001b[49m\u001b[43mniter\u001b[49m\u001b[38;5;241;43m=\u001b[39;49m\u001b[43mniter\u001b[49m\u001b[43m,\u001b[49m\n\u001b[1;32m    918\u001b[0m \u001b[43m                                                                   \u001b[49m\u001b[43mresize\u001b[49m\u001b[38;5;241;43m=\u001b[39;49m\u001b[38;5;28;43;01mNone\u001b[39;49;00m\u001b[43m,\u001b[49m\n\u001b[1;32m    919\u001b[0m \u001b[43m                                                                   \u001b[49m\u001b[43mmin_size\u001b[49m\u001b[38;5;241;43m=\u001b[39;49m\u001b[43mmin_size\u001b[49m\u001b[43m,\u001b[49m\u001b[43m \u001b[49m\n\u001b[1;32m    920\u001b[0m \u001b[43m                                                                   \u001b[49m\u001b[43mmask_threshold\u001b[49m\u001b[38;5;241;43m=\u001b[39;49m\u001b[43mmask_threshold\u001b[49m\u001b[43m,\u001b[49m\u001b[43m  \u001b[49m\n\u001b[1;32m    921\u001b[0m \u001b[43m                                                                   \u001b[49m\u001b[43mdiam_threshold\u001b[49m\u001b[38;5;241;43m=\u001b[39;49m\u001b[43mdiam_threshold\u001b[49m\u001b[43m,\u001b[49m\n\u001b[1;32m    922\u001b[0m \u001b[43m                                                                   \u001b[49m\u001b[43mflow_threshold\u001b[49m\u001b[38;5;241;43m=\u001b[39;49m\u001b[43mflow_threshold\u001b[49m\u001b[43m,\u001b[49m\u001b[43m \u001b[49m\n\u001b[1;32m    923\u001b[0m \u001b[43m                                                                   \u001b[49m\u001b[43mflow_factor\u001b[49m\u001b[38;5;241;43m=\u001b[39;49m\u001b[43mflow_factor\u001b[49m\u001b[43m,\u001b[49m\u001b[43m      \u001b[49m\n\u001b[1;32m    924\u001b[0m \u001b[43m                                                                   \u001b[49m\u001b[43minterp\u001b[49m\u001b[38;5;241;43m=\u001b[39;49m\u001b[43minterp\u001b[49m\u001b[43m,\u001b[49m\u001b[43m \u001b[49m\n\u001b[1;32m    925\u001b[0m \u001b[43m                                                                   \u001b[49m\u001b[43mcluster\u001b[49m\u001b[38;5;241;43m=\u001b[39;49m\u001b[43mcluster\u001b[49m\u001b[43m,\u001b[49m\n\u001b[1;32m    926\u001b[0m \u001b[43m                                                                   \u001b[49m\u001b[43mboundary_seg\u001b[49m\u001b[38;5;241;43m=\u001b[39;49m\u001b[43mboundary_seg\u001b[49m\u001b[43m,\u001b[49m\n\u001b[1;32m    927\u001b[0m \u001b[43m                                                                   \u001b[49m\u001b[43maffinity_seg\u001b[49m\u001b[38;5;241;43m=\u001b[39;49m\u001b[43maffinity_seg\u001b[49m\u001b[43m,\u001b[49m\n\u001b[1;32m    928\u001b[0m \u001b[43m                                                                   \u001b[49m\u001b[43mcalc_trace\u001b[49m\u001b[38;5;241;43m=\u001b[39;49m\u001b[43mcalc_trace\u001b[49m\u001b[43m,\u001b[49m\u001b[43m \u001b[49m\n\u001b[1;32m    929\u001b[0m \u001b[43m                                                                   \u001b[49m\u001b[43mverbose\u001b[49m\u001b[38;5;241;43m=\u001b[39;49m\u001b[43mverbose\u001b[49m\u001b[43m,\u001b[49m\n\u001b[1;32m    930\u001b[0m \u001b[43m                                                                   \u001b[49m\u001b[43muse_gpu\u001b[49m\u001b[38;5;241;43m=\u001b[39;49m\u001b[38;5;28;43mself\u001b[39;49m\u001b[38;5;241;43m.\u001b[39;49m\u001b[43mgpu\u001b[49m\u001b[43m,\u001b[49m\u001b[43m \u001b[49m\n\u001b[1;32m    931\u001b[0m \u001b[43m                                                                   \u001b[49m\u001b[43mdevice\u001b[49m\u001b[38;5;241;43m=\u001b[39;49m\u001b[38;5;28;43mself\u001b[39;49m\u001b[38;5;241;43m.\u001b[39;49m\u001b[43mdevice\u001b[49m\u001b[43m,\u001b[49m\u001b[43m \u001b[49m\n\u001b[1;32m    932\u001b[0m \u001b[43m                                                                   \u001b[49m\u001b[43mnclasses\u001b[49m\u001b[38;5;241;43m=\u001b[39;49m\u001b[38;5;28;43mself\u001b[39;49m\u001b[38;5;241;43m.\u001b[39;49m\u001b[43mnclasses\u001b[49m\u001b[43m,\u001b[49m\u001b[43m \u001b[49m\n\u001b[1;32m    933\u001b[0m \u001b[43m                                                                   \u001b[49m\u001b[43mdim\u001b[49m\u001b[38;5;241;43m=\u001b[39;49m\u001b[38;5;28;43mself\u001b[39;49m\u001b[38;5;241;43m.\u001b[39;49m\u001b[43mdim\u001b[49m\u001b[43m)\u001b[49m\n\u001b[1;32m    934\u001b[0m \u001b[38;5;28;01melse\u001b[39;00m:\n\u001b[1;32m    935\u001b[0m     masks, bounds, p, tr, affinity \u001b[38;5;241m=\u001b[39m [], [], [], [], []\n",
      "File \u001b[0;32m~/envs/omnipose/lib/python3.10/site-packages/omnipose/core.py:1116\u001b[0m, in \u001b[0;36mcompute_masks\u001b[0;34m(dP, dist, bd, p, inds, niter, rescale, resize, mask_threshold, diam_threshold, flow_threshold, interp, cluster, boundary_seg, affinity_seg, do_3D, min_size, hole_size, omni, calc_trace, verbose, use_gpu, device, nclasses, dim, eps, hdbscan, flow_factor, debug, override)\u001b[0m\n\u001b[1;32m   1112\u001b[0m \u001b[38;5;28;01melse\u001b[39;00m:\n\u001b[1;32m   1113\u001b[0m     dP_ \u001b[38;5;241m=\u001b[39m dP \u001b[38;5;241m*\u001b[39m iscell \u001b[38;5;241m/\u001b[39m \u001b[38;5;241m5.\u001b[39m\n\u001b[0;32m-> 1116\u001b[0m dP_pad \u001b[38;5;241m=\u001b[39m \u001b[43mnp\u001b[49m\u001b[38;5;241;43m.\u001b[39;49m\u001b[43mpad\u001b[49m\u001b[43m(\u001b[49m\u001b[43mdP_\u001b[49m\u001b[43m,\u001b[49m\u001b[43mpad_seq\u001b[49m\u001b[43m)\u001b[49m\n\u001b[1;32m   1117\u001b[0m dt_pad \u001b[38;5;241m=\u001b[39m np\u001b[38;5;241m.\u001b[39mpad(dist,pad)\n\u001b[1;32m   1118\u001b[0m bd_pad \u001b[38;5;241m=\u001b[39m np\u001b[38;5;241m.\u001b[39mpad(bd,pad)\n",
      "File \u001b[0;32m~/envs/omnipose/lib/python3.10/site-packages/numpy/lib/arraypad.py:748\u001b[0m, in \u001b[0;36mpad\u001b[0;34m(array, pad_width, mode, **kwargs)\u001b[0m\n\u001b[1;32m    745\u001b[0m     \u001b[38;5;28;01mraise\u001b[39;00m \u001b[38;5;167;01mTypeError\u001b[39;00m(\u001b[38;5;124m'\u001b[39m\u001b[38;5;124m`pad_width` must be of integral type.\u001b[39m\u001b[38;5;124m'\u001b[39m)\n\u001b[1;32m    747\u001b[0m \u001b[38;5;66;03m# Broadcast to shape (array.ndim, 2)\u001b[39;00m\n\u001b[0;32m--> 748\u001b[0m pad_width \u001b[38;5;241m=\u001b[39m \u001b[43m_as_pairs\u001b[49m\u001b[43m(\u001b[49m\u001b[43mpad_width\u001b[49m\u001b[43m,\u001b[49m\u001b[43m \u001b[49m\u001b[43marray\u001b[49m\u001b[38;5;241;43m.\u001b[39;49m\u001b[43mndim\u001b[49m\u001b[43m,\u001b[49m\u001b[43m \u001b[49m\u001b[43mas_index\u001b[49m\u001b[38;5;241;43m=\u001b[39;49m\u001b[38;5;28;43;01mTrue\u001b[39;49;00m\u001b[43m)\u001b[49m\n\u001b[1;32m    750\u001b[0m \u001b[38;5;28;01mif\u001b[39;00m \u001b[38;5;28mcallable\u001b[39m(mode):\n\u001b[1;32m    751\u001b[0m     \u001b[38;5;66;03m# Old behavior: Use user-supplied function with np.apply_along_axis\u001b[39;00m\n\u001b[1;32m    752\u001b[0m     function \u001b[38;5;241m=\u001b[39m mode\n",
      "File \u001b[0;32m~/envs/omnipose/lib/python3.10/site-packages/numpy/lib/arraypad.py:522\u001b[0m, in \u001b[0;36m_as_pairs\u001b[0;34m(x, ndim, as_index)\u001b[0m\n\u001b[1;32m    518\u001b[0m     \u001b[38;5;28;01mraise\u001b[39;00m \u001b[38;5;167;01mValueError\u001b[39;00m(\u001b[38;5;124m\"\u001b[39m\u001b[38;5;124mindex can\u001b[39m\u001b[38;5;124m'\u001b[39m\u001b[38;5;124mt contain negative values\u001b[39m\u001b[38;5;124m\"\u001b[39m)\n\u001b[1;32m    520\u001b[0m \u001b[38;5;66;03m# Converting the array with `tolist` seems to improve performance\u001b[39;00m\n\u001b[1;32m    521\u001b[0m \u001b[38;5;66;03m# when iterating and indexing the result (see usage in `pad`)\u001b[39;00m\n\u001b[0;32m--> 522\u001b[0m \u001b[38;5;28;01mreturn\u001b[39;00m \u001b[43mnp\u001b[49m\u001b[38;5;241;43m.\u001b[39;49m\u001b[43mbroadcast_to\u001b[49m\u001b[43m(\u001b[49m\u001b[43mx\u001b[49m\u001b[43m,\u001b[49m\u001b[43m \u001b[49m\u001b[43m(\u001b[49m\u001b[43mndim\u001b[49m\u001b[43m,\u001b[49m\u001b[43m \u001b[49m\u001b[38;5;241;43m2\u001b[39;49m\u001b[43m)\u001b[49m\u001b[43m)\u001b[49m\u001b[38;5;241m.\u001b[39mtolist()\n",
      "File \u001b[0;32m~/envs/omnipose/lib/python3.10/site-packages/numpy/lib/stride_tricks.py:413\u001b[0m, in \u001b[0;36mbroadcast_to\u001b[0;34m(array, shape, subok)\u001b[0m\n\u001b[1;32m    367\u001b[0m \u001b[38;5;129m@array_function_dispatch\u001b[39m(_broadcast_to_dispatcher, module\u001b[38;5;241m=\u001b[39m\u001b[38;5;124m'\u001b[39m\u001b[38;5;124mnumpy\u001b[39m\u001b[38;5;124m'\u001b[39m)\n\u001b[1;32m    368\u001b[0m \u001b[38;5;28;01mdef\u001b[39;00m \u001b[38;5;21mbroadcast_to\u001b[39m(array, shape, subok\u001b[38;5;241m=\u001b[39m\u001b[38;5;28;01mFalse\u001b[39;00m):\n\u001b[1;32m    369\u001b[0m \u001b[38;5;250m    \u001b[39m\u001b[38;5;124;03m\"\"\"Broadcast an array to a new shape.\u001b[39;00m\n\u001b[1;32m    370\u001b[0m \n\u001b[1;32m    371\u001b[0m \u001b[38;5;124;03m    Parameters\u001b[39;00m\n\u001b[0;32m   (...)\u001b[0m\n\u001b[1;32m    411\u001b[0m \u001b[38;5;124;03m           [1, 2, 3]])\u001b[39;00m\n\u001b[1;32m    412\u001b[0m \u001b[38;5;124;03m    \"\"\"\u001b[39;00m\n\u001b[0;32m--> 413\u001b[0m     \u001b[38;5;28;01mreturn\u001b[39;00m \u001b[43m_broadcast_to\u001b[49m\u001b[43m(\u001b[49m\u001b[43marray\u001b[49m\u001b[43m,\u001b[49m\u001b[43m \u001b[49m\u001b[43mshape\u001b[49m\u001b[43m,\u001b[49m\u001b[43m \u001b[49m\u001b[43msubok\u001b[49m\u001b[38;5;241;43m=\u001b[39;49m\u001b[43msubok\u001b[49m\u001b[43m,\u001b[49m\u001b[43m \u001b[49m\u001b[43mreadonly\u001b[49m\u001b[38;5;241;43m=\u001b[39;49m\u001b[38;5;28;43;01mTrue\u001b[39;49;00m\u001b[43m)\u001b[49m\n",
      "File \u001b[0;32m~/envs/omnipose/lib/python3.10/site-packages/numpy/lib/stride_tricks.py:349\u001b[0m, in \u001b[0;36m_broadcast_to\u001b[0;34m(array, shape, subok, readonly)\u001b[0m\n\u001b[1;32m    346\u001b[0m     \u001b[38;5;28;01mraise\u001b[39;00m \u001b[38;5;167;01mValueError\u001b[39;00m(\u001b[38;5;124m'\u001b[39m\u001b[38;5;124mall elements of broadcast shape must be non-\u001b[39m\u001b[38;5;124m'\u001b[39m\n\u001b[1;32m    347\u001b[0m                      \u001b[38;5;124m'\u001b[39m\u001b[38;5;124mnegative\u001b[39m\u001b[38;5;124m'\u001b[39m)\n\u001b[1;32m    348\u001b[0m extras \u001b[38;5;241m=\u001b[39m []\n\u001b[0;32m--> 349\u001b[0m it \u001b[38;5;241m=\u001b[39m \u001b[43mnp\u001b[49m\u001b[38;5;241;43m.\u001b[39;49m\u001b[43mnditer\u001b[49m\u001b[43m(\u001b[49m\n\u001b[1;32m    350\u001b[0m \u001b[43m    \u001b[49m\u001b[43m(\u001b[49m\u001b[43marray\u001b[49m\u001b[43m,\u001b[49m\u001b[43m)\u001b[49m\u001b[43m,\u001b[49m\u001b[43m \u001b[49m\u001b[43mflags\u001b[49m\u001b[38;5;241;43m=\u001b[39;49m\u001b[43m[\u001b[49m\u001b[38;5;124;43m'\u001b[39;49m\u001b[38;5;124;43mmulti_index\u001b[39;49m\u001b[38;5;124;43m'\u001b[39;49m\u001b[43m,\u001b[49m\u001b[43m \u001b[49m\u001b[38;5;124;43m'\u001b[39;49m\u001b[38;5;124;43mrefs_ok\u001b[39;49m\u001b[38;5;124;43m'\u001b[39;49m\u001b[43m,\u001b[49m\u001b[43m \u001b[49m\u001b[38;5;124;43m'\u001b[39;49m\u001b[38;5;124;43mzerosize_ok\u001b[39;49m\u001b[38;5;124;43m'\u001b[39;49m\u001b[43m]\u001b[49m\u001b[43m \u001b[49m\u001b[38;5;241;43m+\u001b[39;49m\u001b[43m \u001b[49m\u001b[43mextras\u001b[49m\u001b[43m,\u001b[49m\n\u001b[1;32m    351\u001b[0m \u001b[43m    \u001b[49m\u001b[43mop_flags\u001b[49m\u001b[38;5;241;43m=\u001b[39;49m\u001b[43m[\u001b[49m\u001b[38;5;124;43m'\u001b[39;49m\u001b[38;5;124;43mreadonly\u001b[39;49m\u001b[38;5;124;43m'\u001b[39;49m\u001b[43m]\u001b[49m\u001b[43m,\u001b[49m\u001b[43m \u001b[49m\u001b[43mitershape\u001b[49m\u001b[38;5;241;43m=\u001b[39;49m\u001b[43mshape\u001b[49m\u001b[43m,\u001b[49m\u001b[43m \u001b[49m\u001b[43morder\u001b[49m\u001b[38;5;241;43m=\u001b[39;49m\u001b[38;5;124;43m'\u001b[39;49m\u001b[38;5;124;43mC\u001b[39;49m\u001b[38;5;124;43m'\u001b[39;49m\u001b[43m)\u001b[49m\n\u001b[1;32m    352\u001b[0m \u001b[38;5;28;01mwith\u001b[39;00m it:\n\u001b[1;32m    353\u001b[0m     \u001b[38;5;66;03m# never really has writebackifcopy semantics\u001b[39;00m\n\u001b[1;32m    354\u001b[0m     broadcast \u001b[38;5;241m=\u001b[39m it\u001b[38;5;241m.\u001b[39mitviews[\u001b[38;5;241m0\u001b[39m]\n",
      "\u001b[0;31mValueError\u001b[0m: operands could not be broadcast together with remapped shapes [original->remapped]: (3,2)  and requested shape (4,2)"
     ]
    }
   ],
   "source": [
    "masks_cp, flows_cp, _ = model.eval(imgs,\n",
    "                                   channels=[0,0],\n",
    "                                   rescale=None,\n",
    "                                   mask_threshold=0,\n",
    "                                   net_avg=0,\n",
    "                                   transparency=True, \n",
    "                                   flow_threshold=0.,\n",
    "                                   verbose=0, \n",
    "                                   tile=0,\n",
    "                                   compute_masks=1, \n",
    "                                   do_3D=True, \n",
    "                                   omni=1,\n",
    "                                   flow_factor=10)"
   ]
  }
 ],
 "metadata": {
  "kernelspec": {
   "display_name": "Python 3 (ipykernel)",
   "language": "python",
   "name": "python3"
  },
  "language_info": {
   "codemirror_mode": {
    "name": "ipython",
    "version": 3
   },
   "file_extension": ".py",
   "mimetype": "text/x-python",
   "name": "python",
   "nbconvert_exporter": "python",
   "pygments_lexer": "ipython3",
   "version": "3.10.2"
  }
 },
 "nbformat": 4,
 "nbformat_minor": 2
}
